{
 "cells": [
  {
   "cell_type": "code",
   "execution_count": 1,
   "id": "733f6092",
   "metadata": {},
   "outputs": [],
   "source": [
    "import pandas as pd\n",
    "import numpy as np"
   ]
  },
  {
   "cell_type": "code",
   "execution_count": 2,
   "id": "8ed32b7a",
   "metadata": {},
   "outputs": [],
   "source": [
    "from sklearn.model_selection import train_test_split\n",
    "from sklearn.preprocessing import StandardScaler"
   ]
  },
  {
   "cell_type": "code",
   "execution_count": 3,
   "id": "846578bc",
   "metadata": {},
   "outputs": [],
   "source": [
    "from tensorflow.keras.models import Sequential\n",
    "from tensorflow.keras.layers import Dense, Conv1D, MaxPooling1D, Flatten, BatchNormalization, Dropout"
   ]
  },
  {
   "cell_type": "code",
   "execution_count": 4,
   "id": "e244bfd0",
   "metadata": {},
   "outputs": [],
   "source": [
    "df = pd.read_csv(\"weatherAUS.csv\") "
   ]
  },
  {
   "cell_type": "code",
   "execution_count": 5,
   "id": "e558565a",
   "metadata": {},
   "outputs": [],
   "source": [
    "df = df.dropna()"
   ]
  },
  {
   "cell_type": "code",
   "execution_count": 6,
   "id": "ca9bb8af",
   "metadata": {},
   "outputs": [],
   "source": [
    "features = ['MinTemp', 'MaxTemp', 'Rainfall', 'Evaporation', 'Sunshine','Humidity3pm','WindSpeed3pm','WindSpeed9am','WindSpeed3pm','Humidity9am','Pressure9am','Pressure3pm','Cloud9am','Cloud3pm','Temp9am','Temp3pm','WindGustSpeed']\n",
    "target = 'RainTomorrow'"
   ]
  },
  {
   "cell_type": "code",
   "execution_count": 7,
   "id": "0e7b1846",
   "metadata": {},
   "outputs": [],
   "source": [
    "X = df[features].values\n",
    "y = df[target].apply(lambda x: 1 if x == 'Yes' else 0).values"
   ]
  },
  {
   "cell_type": "code",
   "execution_count": 8,
   "id": "3e5a65a2",
   "metadata": {},
   "outputs": [],
   "source": [
    "X_train, X_test, y_train, y_test = train_test_split(X, y, test_size=0.2, random_state=42)\n"
   ]
  },
  {
   "cell_type": "code",
   "execution_count": 9,
   "id": "e3fb4bcf",
   "metadata": {},
   "outputs": [],
   "source": [
    "scaler = StandardScaler()\n",
    "X_train = scaler.fit_transform(X_train)\n",
    "X_test = scaler.transform(X_test)"
   ]
  },
  {
   "cell_type": "code",
   "execution_count": 10,
   "id": "f258b353",
   "metadata": {},
   "outputs": [],
   "source": [
    "X_train = X_train.reshape((X_train.shape[0], X_train.shape[1], 1))\n",
    "X_test = X_test.reshape((X_test.shape[0], X_test.shape[1], 1))\n"
   ]
  },
  {
   "cell_type": "code",
   "execution_count": 11,
   "id": "3a94d255",
   "metadata": {},
   "outputs": [],
   "source": [
    "# Hybrid CNN-DNN Model\n",
    "model = Sequential()"
   ]
  },
  {
   "cell_type": "code",
   "execution_count": 12,
   "id": "de2b77c3",
   "metadata": {},
   "outputs": [],
   "source": [
    "# Convolutional layers\n",
    "model.add(Conv1D(64, kernel_size=3, activation='relu', input_shape=(X_train.shape[1], 1)))\n",
    "model.add(MaxPooling1D(pool_size=2))\n",
    "model.add(BatchNormalization())"
   ]
  },
  {
   "cell_type": "code",
   "execution_count": 13,
   "id": "8d168d2f",
   "metadata": {},
   "outputs": [],
   "source": [
    "# Flatten layer to transition from CNN to DNN\n",
    "model.add(Flatten())"
   ]
  },
  {
   "cell_type": "code",
   "execution_count": 14,
   "id": "a1cf9073",
   "metadata": {},
   "outputs": [],
   "source": [
    "# Dense (DNN) layers\n",
    "model.add(Dense(128, activation='relu'))\n",
    "model.add(BatchNormalization())\n",
    "model.add(Dropout(0.5))\n",
    "model.add(Dense(64, activation='relu'))\n",
    "model.add(BatchNormalization())\n",
    "model.add(Dropout(0.5))\n",
    "model.add(Dense(1, activation='sigmoid'))\n"
   ]
  },
  {
   "cell_type": "code",
   "execution_count": 15,
   "id": "f91d2d08",
   "metadata": {},
   "outputs": [],
   "source": [
    "model.compile(optimizer='adam', loss='binary_crossentropy', metrics=['accuracy'])\n"
   ]
  },
  {
   "cell_type": "code",
   "execution_count": 16,
   "id": "0a53ef7c",
   "metadata": {},
   "outputs": [
    {
     "name": "stdout",
     "output_type": "stream",
     "text": [
      "Epoch 1/20\n",
      "706/706 [==============================] - 21s 19ms/step - loss: 0.4593 - accuracy: 0.8037 - val_loss: 0.3509 - val_accuracy: 0.8478\n",
      "Epoch 2/20\n",
      "706/706 [==============================] - 12s 16ms/step - loss: 0.3704 - accuracy: 0.8391 - val_loss: 0.3466 - val_accuracy: 0.8486\n",
      "Epoch 3/20\n",
      "706/706 [==============================] - 12s 17ms/step - loss: 0.3561 - accuracy: 0.8438 - val_loss: 0.3451 - val_accuracy: 0.8489\n",
      "Epoch 4/20\n",
      "706/706 [==============================] - 12s 17ms/step - loss: 0.3519 - accuracy: 0.8454 - val_loss: 0.3414 - val_accuracy: 0.8509\n",
      "Epoch 5/20\n",
      "706/706 [==============================] - 12s 17ms/step - loss: 0.3509 - accuracy: 0.8452 - val_loss: 0.3402 - val_accuracy: 0.8518\n",
      "Epoch 6/20\n",
      "706/706 [==============================] - 12s 16ms/step - loss: 0.3483 - accuracy: 0.8468 - val_loss: 0.3395 - val_accuracy: 0.8520\n",
      "Epoch 7/20\n",
      "706/706 [==============================] - 12s 17ms/step - loss: 0.3468 - accuracy: 0.8475 - val_loss: 0.3419 - val_accuracy: 0.8503\n",
      "Epoch 8/20\n",
      "706/706 [==============================] - 12s 17ms/step - loss: 0.3476 - accuracy: 0.8465 - val_loss: 0.3397 - val_accuracy: 0.8508\n",
      "Epoch 9/20\n",
      "706/706 [==============================] - 12s 17ms/step - loss: 0.3451 - accuracy: 0.8469 - val_loss: 0.3375 - val_accuracy: 0.8494\n",
      "Epoch 10/20\n",
      "706/706 [==============================] - 12s 17ms/step - loss: 0.3450 - accuracy: 0.8477 - val_loss: 0.3387 - val_accuracy: 0.8516\n",
      "Epoch 11/20\n",
      "706/706 [==============================] - 12s 17ms/step - loss: 0.3454 - accuracy: 0.8471 - val_loss: 0.3378 - val_accuracy: 0.8508\n",
      "Epoch 12/20\n",
      "706/706 [==============================] - 12s 17ms/step - loss: 0.3437 - accuracy: 0.8480 - val_loss: 0.3390 - val_accuracy: 0.8491\n",
      "Epoch 13/20\n",
      "706/706 [==============================] - 12s 17ms/step - loss: 0.3425 - accuracy: 0.8478 - val_loss: 0.3390 - val_accuracy: 0.8510\n",
      "Epoch 14/20\n",
      "706/706 [==============================] - 12s 17ms/step - loss: 0.3423 - accuracy: 0.8474 - val_loss: 0.3391 - val_accuracy: 0.8528\n",
      "Epoch 15/20\n",
      "706/706 [==============================] - 12s 17ms/step - loss: 0.3411 - accuracy: 0.8487 - val_loss: 0.3378 - val_accuracy: 0.8513\n",
      "Epoch 16/20\n",
      "706/706 [==============================] - 12s 17ms/step - loss: 0.3419 - accuracy: 0.8500 - val_loss: 0.3383 - val_accuracy: 0.8512\n",
      "Epoch 17/20\n",
      "706/706 [==============================] - 12s 17ms/step - loss: 0.3385 - accuracy: 0.8511 - val_loss: 0.3359 - val_accuracy: 0.8514\n",
      "Epoch 18/20\n",
      "706/706 [==============================] - 12s 17ms/step - loss: 0.3404 - accuracy: 0.8497 - val_loss: 0.3356 - val_accuracy: 0.8524\n",
      "Epoch 19/20\n",
      "706/706 [==============================] - 12s 17ms/step - loss: 0.3379 - accuracy: 0.8505 - val_loss: 0.3383 - val_accuracy: 0.8508\n",
      "Epoch 20/20\n",
      "706/706 [==============================] - 12s 17ms/step - loss: 0.3385 - accuracy: 0.8510 - val_loss: 0.3376 - val_accuracy: 0.8515\n"
     ]
    },
    {
     "data": {
      "text/plain": [
       "<keras.src.callbacks.History at 0x18a303a4c90>"
      ]
     },
     "execution_count": 16,
     "metadata": {},
     "output_type": "execute_result"
    }
   ],
   "source": [
    "model.fit(X_train, y_train, epochs=20, batch_size=64, validation_data=(X_test, y_test))\n"
   ]
  },
  {
   "cell_type": "code",
   "execution_count": 17,
   "id": "3b5f88b5",
   "metadata": {},
   "outputs": [
    {
     "name": "stdout",
     "output_type": "stream",
     "text": [
      "353/353 [==============================] - 2s 6ms/step - loss: 0.3376 - accuracy: 0.8515\n",
      "Test Loss: 0.3376, Test Accuracy: 85.15%\n"
     ]
    }
   ],
   "source": [
    "loss, accuracy = model.evaluate(X_test, y_test)\n",
    "print(f\"Test Loss: {loss:.4f}, Test Accuracy: {accuracy*100:.2f}%\")"
   ]
  },
  {
   "cell_type": "code",
   "execution_count": null,
   "id": "76a6eb69",
   "metadata": {},
   "outputs": [],
   "source": []
  }
 ],
 "metadata": {
  "kernelspec": {
   "display_name": "Python 3 (ipykernel)",
   "language": "python",
   "name": "python3"
  },
  "language_info": {
   "codemirror_mode": {
    "name": "ipython",
    "version": 3
   },
   "file_extension": ".py",
   "mimetype": "text/x-python",
   "name": "python",
   "nbconvert_exporter": "python",
   "pygments_lexer": "ipython3",
   "version": "3.11.4"
  }
 },
 "nbformat": 4,
 "nbformat_minor": 5
}
