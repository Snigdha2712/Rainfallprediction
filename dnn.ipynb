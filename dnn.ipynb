{
 "cells": [
  {
   "cell_type": "code",
   "execution_count": 1,
   "id": "b8af0caa",
   "metadata": {},
   "outputs": [],
   "source": [
    "import pandas as pd\n",
    "import numpy as np"
   ]
  },
  {
   "cell_type": "code",
   "execution_count": 2,
   "id": "5967be15",
   "metadata": {},
   "outputs": [],
   "source": [
    "from sklearn.model_selection import train_test_split\n",
    "from sklearn.preprocessing import StandardScaler, LabelEncoder"
   ]
  },
  {
   "cell_type": "code",
   "execution_count": 3,
   "id": "72fda693",
   "metadata": {},
   "outputs": [],
   "source": [
    "from tensorflow.keras.models import Sequential\n",
    "from tensorflow.keras.layers import Dense, BatchNormalization, Dropout"
   ]
  },
  {
   "cell_type": "code",
   "execution_count": 4,
   "id": "5eb2dbf3",
   "metadata": {},
   "outputs": [],
   "source": [
    "df = pd.read_csv(\"weatherAUS.csv\") "
   ]
  },
  {
   "cell_type": "code",
   "execution_count": 5,
   "id": "90248035",
   "metadata": {},
   "outputs": [],
   "source": [
    "df = df.dropna()"
   ]
  },
  {
   "cell_type": "code",
   "execution_count": 6,
   "id": "29b47dc7",
   "metadata": {},
   "outputs": [],
   "source": [
    "features = ['MinTemp', 'MaxTemp', 'Rainfall', 'Evaporation', 'Sunshine','Humidity3pm','WindSpeed3pm','WindSpeed9am','WindSpeed3pm','Humidity9am','Pressure9am','Pressure3pm','Cloud9am','Cloud3pm','Temp9am','Temp3pm','WindGustSpeed']\n",
    "target = 'RainTomorrow'"
   ]
  },
  {
   "cell_type": "code",
   "execution_count": 7,
   "id": "009f802f",
   "metadata": {},
   "outputs": [],
   "source": [
    "X = df[features].values\n",
    "y = df[target].apply(lambda x: 1 if x == 'Yes' else 0).values\n"
   ]
  },
  {
   "cell_type": "code",
   "execution_count": 8,
   "id": "e1269f77",
   "metadata": {},
   "outputs": [],
   "source": [
    "X_train, X_test, y_train, y_test = train_test_split(X, y, test_size=0.2, random_state=42)\n"
   ]
  },
  {
   "cell_type": "code",
   "execution_count": 9,
   "id": "caf3cfa9",
   "metadata": {},
   "outputs": [],
   "source": [
    "scaler = StandardScaler()\n",
    "X_train = scaler.fit_transform(X_train)\n",
    "X_test = scaler.transform(X_test)"
   ]
  },
  {
   "cell_type": "code",
   "execution_count": 10,
   "id": "27733cca",
   "metadata": {},
   "outputs": [],
   "source": [
    "# Deep Neural Network Model\n",
    "model = Sequential()\n",
    "model.add(Dense(256, activation='relu'))\n",
    "model.add(BatchNormalization())\n",
    "model.add(Dropout(0.5))\n",
    "model.add(Dense(128, activation='relu'))\n",
    "model.add(BatchNormalization())\n",
    "model.add(Dropout(0.5))\n",
    "model.add(Dense(64, activation='relu'))\n",
    "model.add(BatchNormalization())\n",
    "model.add(Dropout(0.5))\n",
    "model.add(Dense(1, activation='sigmoid'))"
   ]
  },
  {
   "cell_type": "code",
   "execution_count": 11,
   "id": "7778e187",
   "metadata": {},
   "outputs": [],
   "source": [
    "model.compile(optimizer='adam', loss='binary_crossentropy', metrics=['accuracy'])\n"
   ]
  },
  {
   "cell_type": "code",
   "execution_count": 12,
   "id": "ae14e773",
   "metadata": {},
   "outputs": [
    {
     "name": "stdout",
     "output_type": "stream",
     "text": [
      "Epoch 1/100\n",
      "1411/1411 [==============================] - 11s 6ms/step - loss: 0.4223 - accuracy: 0.8149 - val_loss: 0.3357 - val_accuracy: 0.8565\n",
      "Epoch 2/100\n",
      "1411/1411 [==============================] - 7s 5ms/step - loss: 0.3562 - accuracy: 0.8439 - val_loss: 0.3359 - val_accuracy: 0.8571\n",
      "Epoch 3/100\n",
      "1411/1411 [==============================] - 7s 5ms/step - loss: 0.3515 - accuracy: 0.8475 - val_loss: 0.3338 - val_accuracy: 0.8581\n",
      "Epoch 4/100\n",
      "1411/1411 [==============================] - 7s 5ms/step - loss: 0.3491 - accuracy: 0.8480 - val_loss: 0.3312 - val_accuracy: 0.8560\n",
      "Epoch 5/100\n",
      "1411/1411 [==============================] - 8s 6ms/step - loss: 0.3480 - accuracy: 0.8473 - val_loss: 0.3300 - val_accuracy: 0.8549\n",
      "Epoch 6/100\n",
      "1411/1411 [==============================] - 7s 5ms/step - loss: 0.3452 - accuracy: 0.8498 - val_loss: 0.3276 - val_accuracy: 0.8577\n",
      "Epoch 7/100\n",
      "1411/1411 [==============================] - 7s 5ms/step - loss: 0.3437 - accuracy: 0.8498 - val_loss: 0.3289 - val_accuracy: 0.8580\n",
      "Epoch 8/100\n",
      "1411/1411 [==============================] - 8s 6ms/step - loss: 0.3453 - accuracy: 0.8486 - val_loss: 0.3289 - val_accuracy: 0.8576\n",
      "Epoch 9/100\n",
      "1411/1411 [==============================] - 8s 6ms/step - loss: 0.3426 - accuracy: 0.8506 - val_loss: 0.3268 - val_accuracy: 0.8589\n",
      "Epoch 10/100\n",
      "1411/1411 [==============================] - 8s 5ms/step - loss: 0.3410 - accuracy: 0.8513 - val_loss: 0.3267 - val_accuracy: 0.8583\n",
      "Epoch 11/100\n",
      "1411/1411 [==============================] - 9s 6ms/step - loss: 0.3425 - accuracy: 0.8503 - val_loss: 0.3246 - val_accuracy: 0.8594\n",
      "Epoch 12/100\n",
      "1411/1411 [==============================] - 9s 7ms/step - loss: 0.3422 - accuracy: 0.8517 - val_loss: 0.3264 - val_accuracy: 0.8577\n",
      "Epoch 13/100\n",
      "1411/1411 [==============================] - 10s 7ms/step - loss: 0.3391 - accuracy: 0.8504 - val_loss: 0.3250 - val_accuracy: 0.8589\n",
      "Epoch 14/100\n",
      "1411/1411 [==============================] - 10s 7ms/step - loss: 0.3395 - accuracy: 0.8528 - val_loss: 0.3248 - val_accuracy: 0.8581\n",
      "Epoch 15/100\n",
      "1411/1411 [==============================] - 11s 7ms/step - loss: 0.3391 - accuracy: 0.8530 - val_loss: 0.3253 - val_accuracy: 0.8557\n",
      "Epoch 16/100\n",
      "1411/1411 [==============================] - 9s 6ms/step - loss: 0.3404 - accuracy: 0.8504 - val_loss: 0.3245 - val_accuracy: 0.8571\n",
      "Epoch 17/100\n",
      "1411/1411 [==============================] - 9s 6ms/step - loss: 0.3392 - accuracy: 0.8521 - val_loss: 0.3231 - val_accuracy: 0.8586\n",
      "Epoch 18/100\n",
      "1411/1411 [==============================] - 9s 6ms/step - loss: 0.3378 - accuracy: 0.8527 - val_loss: 0.3234 - val_accuracy: 0.8593\n",
      "Epoch 19/100\n",
      "1411/1411 [==============================] - 8s 6ms/step - loss: 0.3373 - accuracy: 0.8530 - val_loss: 0.3236 - val_accuracy: 0.8599\n",
      "Epoch 20/100\n",
      "1411/1411 [==============================] - 8s 6ms/step - loss: 0.3351 - accuracy: 0.8542 - val_loss: 0.3225 - val_accuracy: 0.8591\n",
      "Epoch 21/100\n",
      "1411/1411 [==============================] - 7s 5ms/step - loss: 0.3375 - accuracy: 0.8535 - val_loss: 0.3237 - val_accuracy: 0.8547\n",
      "Epoch 22/100\n",
      "1411/1411 [==============================] - 7s 5ms/step - loss: 0.3347 - accuracy: 0.8518 - val_loss: 0.3228 - val_accuracy: 0.8572\n",
      "Epoch 23/100\n",
      "1411/1411 [==============================] - 7s 5ms/step - loss: 0.3343 - accuracy: 0.8542 - val_loss: 0.3234 - val_accuracy: 0.8580\n",
      "Epoch 24/100\n",
      "1411/1411 [==============================] - 8s 6ms/step - loss: 0.3357 - accuracy: 0.8545 - val_loss: 0.3231 - val_accuracy: 0.8577\n",
      "Epoch 25/100\n",
      "1411/1411 [==============================] - 9s 7ms/step - loss: 0.3359 - accuracy: 0.8525 - val_loss: 0.3216 - val_accuracy: 0.8580\n",
      "Epoch 26/100\n",
      "1411/1411 [==============================] - 9s 6ms/step - loss: 0.3349 - accuracy: 0.8553 - val_loss: 0.3218 - val_accuracy: 0.8594\n",
      "Epoch 27/100\n",
      "1411/1411 [==============================] - 9s 6ms/step - loss: 0.3355 - accuracy: 0.8542 - val_loss: 0.3223 - val_accuracy: 0.8577\n",
      "Epoch 28/100\n",
      "1411/1411 [==============================] - 9s 6ms/step - loss: 0.3343 - accuracy: 0.8548 - val_loss: 0.3228 - val_accuracy: 0.8574\n",
      "Epoch 29/100\n",
      "1411/1411 [==============================] - 9s 6ms/step - loss: 0.3346 - accuracy: 0.8548 - val_loss: 0.3233 - val_accuracy: 0.8599\n",
      "Epoch 30/100\n",
      "1411/1411 [==============================] - 9s 6ms/step - loss: 0.3344 - accuracy: 0.8551 - val_loss: 0.3221 - val_accuracy: 0.8577\n",
      "Epoch 31/100\n",
      "1411/1411 [==============================] - 8s 6ms/step - loss: 0.3341 - accuracy: 0.8537 - val_loss: 0.3224 - val_accuracy: 0.8591\n",
      "Epoch 32/100\n",
      "1411/1411 [==============================] - 9s 6ms/step - loss: 0.3344 - accuracy: 0.8550 - val_loss: 0.3213 - val_accuracy: 0.8586\n",
      "Epoch 33/100\n",
      "1411/1411 [==============================] - 8s 6ms/step - loss: 0.3363 - accuracy: 0.8537 - val_loss: 0.3223 - val_accuracy: 0.8578\n",
      "Epoch 34/100\n",
      "1411/1411 [==============================] - 8s 6ms/step - loss: 0.3335 - accuracy: 0.8550 - val_loss: 0.3222 - val_accuracy: 0.8578\n",
      "Epoch 35/100\n",
      "1411/1411 [==============================] - 8s 5ms/step - loss: 0.3330 - accuracy: 0.8542 - val_loss: 0.3209 - val_accuracy: 0.8590\n",
      "Epoch 36/100\n",
      "1411/1411 [==============================] - 7s 5ms/step - loss: 0.3322 - accuracy: 0.8555 - val_loss: 0.3223 - val_accuracy: 0.8571\n",
      "Epoch 37/100\n",
      "1411/1411 [==============================] - 7s 5ms/step - loss: 0.3324 - accuracy: 0.8553 - val_loss: 0.3226 - val_accuracy: 0.8579\n",
      "Epoch 38/100\n",
      "1411/1411 [==============================] - 7s 5ms/step - loss: 0.3317 - accuracy: 0.8540 - val_loss: 0.3242 - val_accuracy: 0.8565\n",
      "Epoch 39/100\n",
      "1411/1411 [==============================] - 7s 5ms/step - loss: 0.3330 - accuracy: 0.8544 - val_loss: 0.3223 - val_accuracy: 0.8595\n",
      "Epoch 40/100\n",
      "1411/1411 [==============================] - 8s 5ms/step - loss: 0.3307 - accuracy: 0.8566 - val_loss: 0.3213 - val_accuracy: 0.8571\n",
      "Epoch 41/100\n",
      "1411/1411 [==============================] - 7s 5ms/step - loss: 0.3305 - accuracy: 0.8581 - val_loss: 0.3234 - val_accuracy: 0.8584\n",
      "Epoch 42/100\n",
      "1411/1411 [==============================] - 7s 5ms/step - loss: 0.3308 - accuracy: 0.8559 - val_loss: 0.3220 - val_accuracy: 0.8575\n",
      "Epoch 43/100\n",
      "1411/1411 [==============================] - 9s 6ms/step - loss: 0.3319 - accuracy: 0.8557 - val_loss: 0.3210 - val_accuracy: 0.8592\n",
      "Epoch 44/100\n",
      "1411/1411 [==============================] - 9s 6ms/step - loss: 0.3315 - accuracy: 0.8573 - val_loss: 0.3214 - val_accuracy: 0.8592\n",
      "Epoch 45/100\n",
      "1411/1411 [==============================] - 9s 6ms/step - loss: 0.3328 - accuracy: 0.8553 - val_loss: 0.3229 - val_accuracy: 0.8579\n",
      "Epoch 46/100\n",
      "1411/1411 [==============================] - 8s 6ms/step - loss: 0.3309 - accuracy: 0.8565 - val_loss: 0.3222 - val_accuracy: 0.8588\n",
      "Epoch 47/100\n",
      "1411/1411 [==============================] - 9s 6ms/step - loss: 0.3295 - accuracy: 0.8567 - val_loss: 0.3230 - val_accuracy: 0.8597\n",
      "Epoch 48/100\n",
      "1411/1411 [==============================] - 9s 6ms/step - loss: 0.3316 - accuracy: 0.8567 - val_loss: 0.3217 - val_accuracy: 0.8583\n",
      "Epoch 49/100\n",
      "1411/1411 [==============================] - 8s 6ms/step - loss: 0.3315 - accuracy: 0.8557 - val_loss: 0.3220 - val_accuracy: 0.8586\n",
      "Epoch 50/100\n",
      "1411/1411 [==============================] - 9s 6ms/step - loss: 0.3319 - accuracy: 0.8567 - val_loss: 0.3212 - val_accuracy: 0.8600\n",
      "Epoch 51/100\n",
      "1411/1411 [==============================] - 8s 6ms/step - loss: 0.3290 - accuracy: 0.8571 - val_loss: 0.3209 - val_accuracy: 0.8592\n",
      "Epoch 52/100\n",
      "1411/1411 [==============================] - 8s 6ms/step - loss: 0.3306 - accuracy: 0.8569 - val_loss: 0.3222 - val_accuracy: 0.8593\n",
      "Epoch 53/100\n",
      "1411/1411 [==============================] - 9s 6ms/step - loss: 0.3303 - accuracy: 0.8568 - val_loss: 0.3200 - val_accuracy: 0.8595\n",
      "Epoch 54/100\n",
      "1411/1411 [==============================] - 9s 6ms/step - loss: 0.3287 - accuracy: 0.8572 - val_loss: 0.3219 - val_accuracy: 0.8582\n",
      "Epoch 55/100\n",
      "1411/1411 [==============================] - 9s 7ms/step - loss: 0.3296 - accuracy: 0.8563 - val_loss: 0.3215 - val_accuracy: 0.8593\n",
      "Epoch 56/100\n",
      "1411/1411 [==============================] - 9s 7ms/step - loss: 0.3279 - accuracy: 0.8585 - val_loss: 0.3207 - val_accuracy: 0.8589\n",
      "Epoch 57/100\n",
      "1411/1411 [==============================] - 10s 7ms/step - loss: 0.3293 - accuracy: 0.8564 - val_loss: 0.3220 - val_accuracy: 0.8594\n",
      "Epoch 58/100\n",
      "1411/1411 [==============================] - 11s 8ms/step - loss: 0.3289 - accuracy: 0.8575 - val_loss: 0.3209 - val_accuracy: 0.8582\n",
      "Epoch 59/100\n",
      "1411/1411 [==============================] - 10s 7ms/step - loss: 0.3282 - accuracy: 0.8566 - val_loss: 0.3220 - val_accuracy: 0.8577\n",
      "Epoch 60/100\n",
      "1411/1411 [==============================] - 10s 7ms/step - loss: 0.3308 - accuracy: 0.8574 - val_loss: 0.3222 - val_accuracy: 0.8564\n",
      "Epoch 61/100\n",
      "1411/1411 [==============================] - 10s 7ms/step - loss: 0.3290 - accuracy: 0.8572 - val_loss: 0.3215 - val_accuracy: 0.8580\n",
      "Epoch 62/100\n",
      "1411/1411 [==============================] - 10s 7ms/step - loss: 0.3277 - accuracy: 0.8583 - val_loss: 0.3206 - val_accuracy: 0.8602\n",
      "Epoch 63/100\n",
      "1411/1411 [==============================] - 10s 7ms/step - loss: 0.3274 - accuracy: 0.8567 - val_loss: 0.3242 - val_accuracy: 0.8586\n",
      "Epoch 64/100\n",
      "1411/1411 [==============================] - 10s 7ms/step - loss: 0.3275 - accuracy: 0.8594 - val_loss: 0.3216 - val_accuracy: 0.8584\n",
      "Epoch 65/100\n",
      "1411/1411 [==============================] - 9s 6ms/step - loss: 0.3271 - accuracy: 0.8577 - val_loss: 0.3206 - val_accuracy: 0.8588\n",
      "Epoch 66/100\n",
      "1411/1411 [==============================] - 10s 7ms/step - loss: 0.3274 - accuracy: 0.8584 - val_loss: 0.3216 - val_accuracy: 0.8589\n",
      "Epoch 67/100\n",
      "1411/1411 [==============================] - 9s 7ms/step - loss: 0.3250 - accuracy: 0.8580 - val_loss: 0.3220 - val_accuracy: 0.8586\n",
      "Epoch 68/100\n",
      "1411/1411 [==============================] - 10s 7ms/step - loss: 0.3252 - accuracy: 0.8581 - val_loss: 0.3216 - val_accuracy: 0.8600\n",
      "Epoch 69/100\n",
      "1411/1411 [==============================] - 10s 7ms/step - loss: 0.3260 - accuracy: 0.8572 - val_loss: 0.3220 - val_accuracy: 0.8589\n",
      "Epoch 70/100\n",
      "1411/1411 [==============================] - 10s 7ms/step - loss: 0.3257 - accuracy: 0.8577 - val_loss: 0.3210 - val_accuracy: 0.8583\n",
      "Epoch 71/100\n",
      "1411/1411 [==============================] - 10s 7ms/step - loss: 0.3263 - accuracy: 0.8586 - val_loss: 0.3222 - val_accuracy: 0.8593\n",
      "Epoch 72/100\n",
      "1411/1411 [==============================] - 10s 7ms/step - loss: 0.3271 - accuracy: 0.8579 - val_loss: 0.3208 - val_accuracy: 0.8598\n",
      "Epoch 73/100\n",
      "1411/1411 [==============================] - 10s 7ms/step - loss: 0.3278 - accuracy: 0.8580 - val_loss: 0.3215 - val_accuracy: 0.8596\n",
      "Epoch 74/100\n",
      "1411/1411 [==============================] - 10s 7ms/step - loss: 0.3243 - accuracy: 0.8594 - val_loss: 0.3214 - val_accuracy: 0.8608\n",
      "Epoch 75/100\n",
      "1411/1411 [==============================] - 10s 7ms/step - loss: 0.3267 - accuracy: 0.8588 - val_loss: 0.3243 - val_accuracy: 0.8562\n",
      "Epoch 76/100\n",
      "1411/1411 [==============================] - 9s 7ms/step - loss: 0.3261 - accuracy: 0.8583 - val_loss: 0.3202 - val_accuracy: 0.8610\n",
      "Epoch 77/100\n",
      "1411/1411 [==============================] - 10s 7ms/step - loss: 0.3252 - accuracy: 0.8593 - val_loss: 0.3206 - val_accuracy: 0.8597\n",
      "Epoch 78/100\n",
      "1411/1411 [==============================] - 10s 7ms/step - loss: 0.3250 - accuracy: 0.8582 - val_loss: 0.3211 - val_accuracy: 0.8592\n",
      "Epoch 79/100\n",
      "1411/1411 [==============================] - 9s 6ms/step - loss: 0.3255 - accuracy: 0.8585 - val_loss: 0.3213 - val_accuracy: 0.8596\n",
      "Epoch 80/100\n",
      "1411/1411 [==============================] - 9s 6ms/step - loss: 0.3260 - accuracy: 0.8590 - val_loss: 0.3223 - val_accuracy: 0.8589\n",
      "Epoch 81/100\n",
      "1411/1411 [==============================] - 10s 7ms/step - loss: 0.3253 - accuracy: 0.8605 - val_loss: 0.3210 - val_accuracy: 0.8591\n",
      "Epoch 82/100\n",
      "1411/1411 [==============================] - 10s 7ms/step - loss: 0.3273 - accuracy: 0.8586 - val_loss: 0.3228 - val_accuracy: 0.8562\n",
      "Epoch 83/100\n",
      "1411/1411 [==============================] - 9s 7ms/step - loss: 0.3254 - accuracy: 0.8587 - val_loss: 0.3216 - val_accuracy: 0.8594\n",
      "Epoch 84/100\n",
      "1411/1411 [==============================] - 8s 5ms/step - loss: 0.3252 - accuracy: 0.8581 - val_loss: 0.3211 - val_accuracy: 0.8595\n",
      "Epoch 85/100\n",
      "1411/1411 [==============================] - 8s 6ms/step - loss: 0.3253 - accuracy: 0.8588 - val_loss: 0.3225 - val_accuracy: 0.8576\n",
      "Epoch 86/100\n",
      "1411/1411 [==============================] - 9s 6ms/step - loss: 0.3233 - accuracy: 0.8590 - val_loss: 0.3218 - val_accuracy: 0.8601\n",
      "Epoch 87/100\n",
      "1411/1411 [==============================] - 9s 6ms/step - loss: 0.3236 - accuracy: 0.8590 - val_loss: 0.3217 - val_accuracy: 0.8591\n",
      "Epoch 88/100\n",
      "1411/1411 [==============================] - 9s 6ms/step - loss: 0.3258 - accuracy: 0.8588 - val_loss: 0.3220 - val_accuracy: 0.8591\n",
      "Epoch 89/100\n",
      "1411/1411 [==============================] - 8s 6ms/step - loss: 0.3266 - accuracy: 0.8591 - val_loss: 0.3216 - val_accuracy: 0.8593\n",
      "Epoch 90/100\n",
      "1411/1411 [==============================] - 7s 5ms/step - loss: 0.3244 - accuracy: 0.8595 - val_loss: 0.3205 - val_accuracy: 0.8600\n",
      "Epoch 91/100\n",
      "1411/1411 [==============================] - 9s 6ms/step - loss: 0.3269 - accuracy: 0.8584 - val_loss: 0.3218 - val_accuracy: 0.8602\n",
      "Epoch 92/100\n",
      "1411/1411 [==============================] - 9s 6ms/step - loss: 0.3249 - accuracy: 0.8586 - val_loss: 0.3217 - val_accuracy: 0.8599\n",
      "Epoch 93/100\n",
      "1411/1411 [==============================] - 9s 6ms/step - loss: 0.3249 - accuracy: 0.8598 - val_loss: 0.3206 - val_accuracy: 0.8605\n",
      "Epoch 94/100\n",
      "1411/1411 [==============================] - 9s 6ms/step - loss: 0.3251 - accuracy: 0.8589 - val_loss: 0.3216 - val_accuracy: 0.8584\n",
      "Epoch 95/100\n",
      "1411/1411 [==============================] - 9s 6ms/step - loss: 0.3251 - accuracy: 0.8586 - val_loss: 0.3225 - val_accuracy: 0.8579\n",
      "Epoch 96/100\n",
      "1411/1411 [==============================] - 8s 6ms/step - loss: 0.3222 - accuracy: 0.8602 - val_loss: 0.3213 - val_accuracy: 0.8596\n",
      "Epoch 97/100\n",
      "1411/1411 [==============================] - 9s 6ms/step - loss: 0.3232 - accuracy: 0.8587 - val_loss: 0.3213 - val_accuracy: 0.8596\n",
      "Epoch 98/100\n",
      "1411/1411 [==============================] - 9s 7ms/step - loss: 0.3233 - accuracy: 0.8596 - val_loss: 0.3206 - val_accuracy: 0.8592\n",
      "Epoch 99/100\n",
      "1411/1411 [==============================] - 9s 6ms/step - loss: 0.3239 - accuracy: 0.8592 - val_loss: 0.3200 - val_accuracy: 0.8609\n",
      "Epoch 100/100\n",
      "1411/1411 [==============================] - 9s 7ms/step - loss: 0.3241 - accuracy: 0.8591 - val_loss: 0.3213 - val_accuracy: 0.8578\n"
     ]
    },
    {
     "data": {
      "text/plain": [
       "<keras.src.callbacks.History at 0x217261c6e10>"
      ]
     },
     "execution_count": 12,
     "metadata": {},
     "output_type": "execute_result"
    }
   ],
   "source": [
    "model.fit(X_train, y_train, epochs=100, batch_size=32, validation_data=(X_test, y_test))\n"
   ]
  },
  {
   "cell_type": "code",
   "execution_count": 14,
   "id": "70e241e4",
   "metadata": {},
   "outputs": [
    {
     "name": "stdout",
     "output_type": "stream",
     "text": [
      "353/353 [==============================] - 1s 2ms/step - loss: 0.3213 - accuracy: 0.8578\n",
      "Test Loss: 0.3213, Test Accuracy: 85.7763%\n"
     ]
    }
   ],
   "source": [
    "loss, accuracy = model.evaluate(X_test, y_test)\n",
    "print(f\"Test Loss: {loss:.4f}, Test Accuracy: {accuracy*100:.4f}%\")"
   ]
  },
  {
   "cell_type": "code",
   "execution_count": 15,
   "id": "1acb014c",
   "metadata": {},
   "outputs": [
    {
     "name": "stdout",
     "output_type": "stream",
     "text": [
      "353/353 [==============================] - 2s 3ms/step\n"
     ]
    }
   ],
   "source": [
    "y_prob_dnn = model.predict(X_test)\n",
    "y_pred_dnn = (y_prob_dnn > 0.5).astype(int)"
   ]
  },
  {
   "cell_type": "code",
   "execution_count": 16,
   "id": "aceecbd9",
   "metadata": {},
   "outputs": [],
   "source": [
    "from sklearn.metrics import precision_score, matthews_corrcoef\n"
   ]
  },
  {
   "cell_type": "code",
   "execution_count": 17,
   "id": "64a59a92",
   "metadata": {},
   "outputs": [
    {
     "name": "stdout",
     "output_type": "stream",
     "text": [
      "DNN Precision: 0.7506\n",
      "DNN MCC: 0.5494\n"
     ]
    }
   ],
   "source": [
    "precision_dnn = precision_score(y_test, y_pred_dnn)\n",
    "print(f'DNN Precision: {precision_dnn:.4f}')\n",
    "\n",
    "# Calculate MCC\n",
    "mcc_dnn = matthews_corrcoef(y_test, y_pred_dnn)\n",
    "print(f'DNN MCC: {mcc_dnn:.4f}')"
   ]
  },
  {
   "cell_type": "code",
   "execution_count": null,
   "id": "80385339",
   "metadata": {},
   "outputs": [],
   "source": []
  }
 ],
 "metadata": {
  "kernelspec": {
   "display_name": "Python 3 (ipykernel)",
   "language": "python",
   "name": "python3"
  },
  "language_info": {
   "codemirror_mode": {
    "name": "ipython",
    "version": 3
   },
   "file_extension": ".py",
   "mimetype": "text/x-python",
   "name": "python",
   "nbconvert_exporter": "python",
   "pygments_lexer": "ipython3",
   "version": "3.11.4"
  }
 },
 "nbformat": 4,
 "nbformat_minor": 5
}
